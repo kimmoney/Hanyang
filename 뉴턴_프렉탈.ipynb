{
  "nbformat": 4,
  "nbformat_minor": 0,
  "metadata": {
    "colab": {
      "provenance": [],
      "authorship_tag": "ABX9TyPMBKXEj3VRyie7QsqvcOfo"
    },
    "kernelspec": {
      "name": "python3",
      "display_name": "Python 3"
    },
    "language_info": {
      "name": "python"
    }
  },
  "cells": [
    {
      "cell_type": "code",
      "execution_count": 7,
      "metadata": {
        "id": "kvG3AcfIsGfh"
      },
      "outputs": [],
      "source": [
        "import numpy as np, matplotlib.pyplot as plt, cmath\n",
        "ep = 1e-8 ; ep_s = int(5*1e3) ; img=[] ; i=0 ; j=0\n",
        "\n",
        "def f(x) :\n",
        "  return x**3 -1\n",
        "def df(x) :\n",
        "  return 3*x**2\n",
        "\n",
        "def convert(x) :\n",
        "  arr=[0,0,0]; col = 0\n",
        "  for i in range(3):    img[i] = abs(cmath.phase(x)-phase_arr[i])\n",
        "  if arr[0]>arr[1] and arr[2]>arr[1]:    col = 1\n",
        "  elif arr[0]>arr[2] :    col = 2\n",
        "\n",
        "convert_arr = [(np.cos(2*np.pi/3)+1j*np.sin(2*np.pi/3)),\n",
        "               (np.cos(4*np.pi/3)+1j*np.sin(4*np.pi/3)),\n",
        "               (1+0j)]\n",
        "phase_arr = [cmath.phase(convert_arr[0]),\n",
        "             cmath.phase(convert_arr[1]),\n",
        "             cmath.phase(convert_arr[2])]\n",
        "\n",
        "##빈 칸 생성\n",
        "\n",
        "for x in np.linspace(-1,1,ep_s):\n",
        "  img.append([])\n",
        "  for y in np.linspace(-1,1,ep_s):\n",
        "    img[i].append([0,0,0])\n",
        "  i+=1\n"
      ]
    },
    {
      "cell_type": "code",
      "source": [
        "for x in np.linspace(-1,1,ep_s):\n",
        "  for y in np.linspace(-1,1,ep_s):\n",
        "    z = complex(x,y)\n",
        "    while(abs(f(z)/df(z))):\n",
        "      z=+f(z)/df(z)\n",
        "      col = convert(z)\n",
        "      if col == 0: img[j][i] = [1,0,0]\n",
        "      elif col == 1: img[j][i] = [0,1,0]\n",
        "      elif col == 2: img[j][i] = [0,0,1]\n",
        "    j+=1\n",
        "  i+=1"
      ],
      "metadata": {
        "id": "t7Vs-NQ0y8wr"
      },
      "execution_count": null,
      "outputs": []
    },
    {
      "cell_type": "code",
      "source": [
        "plt.figure(figsize=(60,60))\n",
        "plt.imshow(arr,origin='lower',extent=[-1,1,-1,1])\n",
        "plt.ylabel('Imaginary')\n",
        "plt.xlabel('Real')\n",
        "plt.show()"
      ],
      "metadata": {
        "id": "XXSHw8sD0J1R"
      },
      "execution_count": null,
      "outputs": []
    }
  ]
}